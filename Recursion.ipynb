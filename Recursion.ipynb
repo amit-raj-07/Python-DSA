{
  "nbformat": 4,
  "nbformat_minor": 0,
  "metadata": {
    "colab": {
      "provenance": [],
      "authorship_tag": "ABX9TyOVCM6mAWUzLf7A1Ww1AeF+",
      "include_colab_link": true
    },
    "kernelspec": {
      "name": "python3",
      "display_name": "Python 3"
    },
    "language_info": {
      "name": "python"
    }
  },
  "cells": [
    {
      "cell_type": "markdown",
      "metadata": {
        "id": "view-in-github",
        "colab_type": "text"
      },
      "source": [
        "<a href=\"https://colab.research.google.com/github/amit-raj-07/Python-DSA/blob/main/Recursion.ipynb\" target=\"_parent\"><img src=\"https://colab.research.google.com/assets/colab-badge.svg\" alt=\"Open In Colab\"/></a>"
      ]
    },
    {
      "cell_type": "code",
      "execution_count": 2,
      "metadata": {
        "colab": {
          "base_uri": "https://localhost:8080/"
        },
        "id": "q23AQhM5vmJV",
        "outputId": "aa467c32-903b-432e-fa56-d46f2df71ebe"
      },
      "outputs": [
        {
          "output_type": "stream",
          "name": "stdout",
          "text": [
            "1  \n",
            "2  \n",
            "4  \n",
            "5  \n",
            "6  \n",
            "7  \n"
          ]
        }
      ],
      "source": [
        "##Recursion print 1 to n\n",
        "\n",
        "def printRec(arr, si):\n",
        "  #Base Condition\n",
        "  if si>=len(arr):\n",
        "    return\n",
        "  #Logic\n",
        "  print(arr[si])\n",
        "\n",
        "  #Recursive function\n",
        "  printRec(arr, si+1)\n",
        "\n",
        "printRec([1,2,4,5,6,7], 0)\n",
        ""
      ]
    },
    {
      "cell_type": "code",
      "source": [
        "##Recursion print 1 to n\n",
        "\n",
        "def printRec(arr, si):\n",
        "  #Base Condition\n",
        "  if si>=len(arr):\n",
        "    return\n",
        "\n",
        "  #Recursive function\n",
        "  printRec(arr, si+1)\n",
        "  #Logic\n",
        "  print(arr[si])\n",
        "\n",
        "\n",
        "\n",
        "printRec([1,2,4,5,6,7], 0)"
      ],
      "metadata": {
        "colab": {
          "base_uri": "https://localhost:8080/"
        },
        "id": "G3SsM2tzw2am",
        "outputId": "172f394e-340d-4328-e461-0312f94e2ac7"
      },
      "execution_count": 3,
      "outputs": [
        {
          "output_type": "stream",
          "name": "stdout",
          "text": [
            "7\n",
            "6\n",
            "5\n",
            "4\n",
            "2\n",
            "1\n"
          ]
        }
      ]
    },
    {
      "cell_type": "code",
      "source": [
        "def smallest_recursive(arr, n):\n",
        "    if n == 1:\n",
        "        return arr[0]\n",
        "    else:\n",
        "        return min(arr[n - 1], smallest_recursive(arr, n - 1))\n",
        "\n",
        "arr = [3, 5, 2, 1, 4]\n",
        "result = smallest_recursive(arr, len(arr))\n",
        "print(\"The smallest number in the list is:\", result)\n"
      ],
      "metadata": {
        "colab": {
          "base_uri": "https://localhost:8080/"
        },
        "id": "uBtJcMI5yrho",
        "outputId": "03e88d9d-83d1-44ef-e120-afd391b15924"
      },
      "execution_count": 6,
      "outputs": [
        {
          "output_type": "stream",
          "name": "stdout",
          "text": [
            "The smallest number in the list is: 1\n"
          ]
        }
      ]
    },
    {
      "cell_type": "code",
      "source": [
        "#Tower Of Hanoi\n",
        "\n",
        "def count(n,s,d,a):\n",
        "  if n==1:\n",
        "    return 1\n",
        "  return count(n-1,s,a,d)+1+count(n-1,a,d,s)\n",
        "\n",
        "print(count(5,'s','a','d'))"
      ],
      "metadata": {
        "colab": {
          "base_uri": "https://localhost:8080/"
        },
        "id": "DEGY9FY36IQ6",
        "outputId": "7daa1fbd-8ba1-4dfb-b095-c41bcedbea88"
      },
      "execution_count": 11,
      "outputs": [
        {
          "output_type": "stream",
          "name": "stdout",
          "text": [
            "31\n"
          ]
        }
      ]
    },
    {
      "cell_type": "code",
      "source": [],
      "metadata": {
        "id": "KcBEke3rPTA3"
      },
      "execution_count": null,
      "outputs": []
    }
  ]
}