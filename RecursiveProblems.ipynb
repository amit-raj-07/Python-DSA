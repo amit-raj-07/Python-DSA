{
  "nbformat": 4,
  "nbformat_minor": 0,
  "metadata": {
    "colab": {
      "provenance": [],
      "authorship_tag": "ABX9TyMsCOmw734yHfwgLcRHe+zH",
      "include_colab_link": true
    },
    "kernelspec": {
      "name": "python3",
      "display_name": "Python 3"
    },
    "language_info": {
      "name": "python"
    }
  },
  "cells": [
    {
      "cell_type": "markdown",
      "metadata": {
        "id": "view-in-github",
        "colab_type": "text"
      },
      "source": [
        "<a href=\"https://colab.research.google.com/github/amit-raj-07/Python-DSA/blob/main/RecursiveProblems.ipynb\" target=\"_parent\"><img src=\"https://colab.research.google.com/assets/colab-badge.svg\" alt=\"Open In Colab\"/></a>"
      ]
    },
    {
      "cell_type": "code",
      "execution_count": 3,
      "metadata": {
        "colab": {
          "base_uri": "https://localhost:8080/"
        },
        "id": "K3b5FuPgurPN",
        "outputId": "81630220-78f7-4431-c758-292e3665ec85"
      },
      "outputs": [
        {
          "output_type": "stream",
          "name": "stdout",
          "text": [
            "No number found\n"
          ]
        }
      ],
      "source": [
        "##LinearSearch Recursive\n",
        "\n",
        "def linearSearch(arr,num,index):\n",
        "  if index == len(arr):\n",
        "    return -1\n",
        "\n",
        "  if arr[index] == num:\n",
        "    return index\n",
        "\n",
        "  return linearSearch(arr,num,index+1)\n",
        "\n",
        "\n",
        "arr = [2,3,4,6,7,8,34,22]\n",
        "result = linearSearch(arr, 17, 0)\n",
        "\n",
        "if result == -1:\n",
        "  print(\"No number found\")\n",
        "else:\n",
        "  print(result)"
      ]
    },
    {
      "cell_type": "code",
      "source": [
        "##BinarySearch Recursive\n",
        "\n",
        "def BinarySearch(arr, s,e,target):\n",
        "  if s>e:\n",
        "    return -1\n",
        "\n",
        "  mid = int(s+(e-s)/2)\n",
        "\n",
        "  if arr[mid] == target:\n",
        "    return mid\n",
        "  elif arr[mid] > target:\n",
        "    return BinarySearch(arr,s,mid-1,target)\n",
        "  else:\n",
        "    return BinarySearch(arr,mid+1,e,target)\n",
        "\n",
        "print(BinarySearch([2,3,4,5,6,7,8], 0, 7, 6))"
      ],
      "metadata": {
        "colab": {
          "base_uri": "https://localhost:8080/"
        },
        "id": "j0Tc_8tA-iZU",
        "outputId": "8a22fc70-bb0f-4fa1-ea5f-8712c4479abd"
      },
      "execution_count": 5,
      "outputs": [
        {
          "output_type": "stream",
          "name": "stdout",
          "text": [
            "4\n"
          ]
        }
      ]
    },
    {
      "cell_type": "code",
      "source": [
        "##Reverse Array\n",
        "\n",
        "def reverseArray(arr):\n",
        "  start=0\n",
        "  end=len(arr)-1\n",
        "\n",
        "  while start<=end:\n",
        "    arr[start],arr[end] = arr[end],arr[start]\n",
        "    start +=1\n",
        "    end -= 1\n",
        "\n",
        "arr = [1,2,3,4,5,6,7]\n",
        "reverseArray(arr)\n",
        "print(arr)\n"
      ],
      "metadata": {
        "colab": {
          "base_uri": "https://localhost:8080/"
        },
        "id": "k0OX05WT_OMA",
        "outputId": "0326935e-bd29-4554-a929-7d3afdc72b82"
      },
      "execution_count": 15,
      "outputs": [
        {
          "output_type": "stream",
          "name": "stdout",
          "text": [
            "[7, 6, 5, 4, 3, 2, 1]\n"
          ]
        }
      ]
    },
    {
      "cell_type": "code",
      "source": [
        "##Reverse Array Recursive\n",
        "def reverseArray(arr,s,e):\n",
        "  if s>=e:\n",
        "    return arr\n",
        "  arr[s],arr[e] = arr[e],arr[s]\n",
        "  return reverseArray(arr,s+1,e-1)\n",
        "\n",
        "\n",
        "\n",
        "\n",
        "arr = [1,2,3,4,5,6,7]\n",
        "reverseArray(arr,0,len(arr)-1)\n",
        "print(arr)\n",
        "\n"
      ],
      "metadata": {
        "colab": {
          "base_uri": "https://localhost:8080/"
        },
        "id": "DaSeWPhwBzjS",
        "outputId": "d93a95ce-8f26-41ab-85be-2320ee56f39b"
      },
      "execution_count": 10,
      "outputs": [
        {
          "output_type": "stream",
          "name": "stdout",
          "text": [
            "[7, 6, 5, 4, 3, 2, 1]\n"
          ]
        }
      ]
    },
    {
      "cell_type": "code",
      "source": [
        "##Palindrome or not\n",
        "\n",
        "def isPalindrome(arr):\n",
        "  l=0\n",
        "  r=len(arr)-1\n",
        "\n",
        "  while l<=r:\n",
        "    if arr[l]!=arr[r]:\n",
        "      return False\n",
        "    l +=1\n",
        "    r -=1\n",
        "\n",
        "  return True\n",
        "\n",
        "arr = [1,2,3,3,2,1]\n",
        "arr1 = [1,2,3,4,3,2,1]\n",
        "arr2 = [1,2]\n",
        "\n",
        "\n",
        "print(isPalindrome(arr))\n",
        "print(isPalindrome(arr1))\n",
        "print(isPalindrome(arr2))"
      ],
      "metadata": {
        "colab": {
          "base_uri": "https://localhost:8080/"
        },
        "id": "zsWdK9zgDbDV",
        "outputId": "124c82e8-0b6b-453c-c447-014b3245b043"
      },
      "execution_count": 13,
      "outputs": [
        {
          "output_type": "stream",
          "name": "stdout",
          "text": [
            "True\n",
            "True\n",
            "False\n"
          ]
        }
      ]
    },
    {
      "cell_type": "code",
      "source": [
        "##Ktimes rotation\n",
        "\n",
        "def rotate(arr,k):\n",
        "  k = k%len(arr)\n",
        "\n",
        "  for i in range(k):\n",
        "    ##to rotate\n",
        "\n",
        "    prev = arr[0]\n",
        "    curr = arr[0]\n",
        "    arr[0] = arr[len(arr)-1]\n",
        "    j=1\n",
        "\n",
        "    while(j<len(arr)):\n",
        "      curr = arr[j]\n",
        "      arr[j] = prev\n",
        "      prev = curr\n",
        "      j+=1\n",
        "\n",
        "\n",
        "arr1 = [1,2,3,4,5]\n",
        "arr2 = [1,2,3,4,5]\n",
        "arr3 = [1,2,3,4,5]\n",
        "\n",
        "\n",
        "rotate(arr1,1)\n",
        "print(arr1)\n",
        "rotate(arr2,2)\n",
        "print(arr2)\n",
        "rotate(arr3,3)\n",
        "print(arr3)"
      ],
      "metadata": {
        "colab": {
          "base_uri": "https://localhost:8080/"
        },
        "id": "ULvvFg5FL6u8",
        "outputId": "ad493412-90ff-47d3-9d3f-827eafdb2e5d"
      },
      "execution_count": 14,
      "outputs": [
        {
          "output_type": "stream",
          "name": "stdout",
          "text": [
            "[5, 1, 2, 3, 4]\n",
            "[4, 5, 1, 2, 3]\n",
            "[3, 4, 5, 1, 2]\n"
          ]
        }
      ]
    },
    {
      "cell_type": "code",
      "source": [
        "def reverse_array(arr, start, end):\n",
        "    while start < end:\n",
        "        arr[start], arr[end] = arr[end], arr[start]\n",
        "        start += 1\n",
        "        end -= 1\n",
        "\n",
        "def rotate_array(arr, k):\n",
        "    n = len(arr)\n",
        "    k %= n  # Adjusting k in case it's greater than the length of the array\n",
        "    reverse_array(arr, 0, n - 1)  # Reverse the entire array\n",
        "    reverse_array(arr, 0, k - 1)  # Reverse the subarray from start to k-1\n",
        "    reverse_array(arr, k, n - 1)  # Reverse the subarray from k to end\n",
        "\n",
        "# Example usage:\n",
        "my_array = [1, 2, 3, 4, 5]\n",
        "rotate_array(my_array, 2)\n",
        "print(\"Rotated Array:\", my_array)\n"
      ],
      "metadata": {
        "colab": {
          "base_uri": "https://localhost:8080/"
        },
        "id": "c4CA5WgsTqLs",
        "outputId": "7fab775d-5dbb-4bb9-c5c6-c9cb371f4967"
      },
      "execution_count": 17,
      "outputs": [
        {
          "output_type": "stream",
          "name": "stdout",
          "text": [
            "Rotated Array: [4, 5, 1, 2, 3]\n"
          ]
        }
      ]
    },
    {
      "cell_type": "code",
      "source": [],
      "metadata": {
        "id": "-F9K-PwhaC-H"
      },
      "execution_count": null,
      "outputs": []
    }
  ]
}