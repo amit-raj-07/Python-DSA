{
  "nbformat": 4,
  "nbformat_minor": 0,
  "metadata": {
    "colab": {
      "provenance": []
    },
    "kernelspec": {
      "name": "python3",
      "display_name": "Python 3"
    },
    "language_info": {
      "name": "python"
    }
  },
  "cells": [
    {
      "cell_type": "code",
      "execution_count": 3,
      "metadata": {
        "colab": {
          "base_uri": "https://localhost:8080/"
        },
        "id": "Cjwf6UBQ5Ite",
        "outputId": "bdafafd0-3b17-4f92-cfa7-bd61a0ac50bf"
      },
      "outputs": [
        {
          "output_type": "stream",
          "name": "stdout",
          "text": [
            "284\n"
          ]
        }
      ],
      "source": [
        "##Method of sum function\n",
        "##Time Complexity -> O(n)\n",
        "##Space Complexity -> O(1)\n",
        "\n",
        "def summation(arr):\n",
        "  n=len(arr)\n",
        "  sumval=0\n",
        "  for i in range(n):\n",
        "    sumval += arr[i]\n",
        "\n",
        "  return sumval\n",
        "\n",
        "#Driver Code\n",
        "arr = [23,24,45,6,7,89,90]\n",
        "arr1 = []\n",
        "result = summation(arr)\n",
        "print(result)"
      ]
    },
    {
      "cell_type": "code",
      "source": [
        "arr = [23,24,34,65,87,98,89]\n",
        "arr.insert(1,94)"
      ],
      "metadata": {
        "id": "f3uBK-l95ton"
      },
      "execution_count": 4,
      "outputs": []
    },
    {
      "cell_type": "code",
      "source": [
        "arr"
      ],
      "metadata": {
        "colab": {
          "base_uri": "https://localhost:8080/"
        },
        "id": "Ww26-MTE6t73",
        "outputId": "ebc2b91a-9388-4f39-cc61-bf0e615e3312"
      },
      "execution_count": 5,
      "outputs": [
        {
          "output_type": "execute_result",
          "data": {
            "text/plain": [
              "[23, 94, 24, 34, 65, 87, 98, 89]"
            ]
          },
          "metadata": {},
          "execution_count": 5
        }
      ]
    },
    {
      "cell_type": "code",
      "source": [
        "arr.remove(34)"
      ],
      "metadata": {
        "id": "gcFXTXvz61WV"
      },
      "execution_count": 6,
      "outputs": []
    },
    {
      "cell_type": "code",
      "source": [
        "arr"
      ],
      "metadata": {
        "colab": {
          "base_uri": "https://localhost:8080/"
        },
        "id": "i-RGYnhl66zv",
        "outputId": "9471571e-4c5b-4d8b-95b7-14d99ba96a6b"
      },
      "execution_count": 7,
      "outputs": [
        {
          "output_type": "execute_result",
          "data": {
            "text/plain": [
              "[23, 94, 24, 65, 87, 98, 89]"
            ]
          },
          "metadata": {},
          "execution_count": 7
        }
      ]
    },
    {
      "cell_type": "code",
      "source": [
        "arr = [12,14,16,18,11,22,26,29]\n",
        "target = 11\n",
        "\n",
        "n = len(arr)\n",
        "for i in range(n):\n",
        "  if target in arr:\n",
        "    print(\"True\")\n",
        "    break\n",
        "  else:\n",
        "    print(\"False\")"
      ],
      "metadata": {
        "colab": {
          "base_uri": "https://localhost:8080/"
        },
        "id": "KLmkscmB67_x",
        "outputId": "040e976b-0008-4bf2-dfc4-fe6d6fdd2e4f"
      },
      "execution_count": 9,
      "outputs": [
        {
          "output_type": "stream",
          "name": "stdout",
          "text": [
            "True\n"
          ]
        }
      ]
    },
    {
      "cell_type": "code",
      "source": [
        "##Searching Algorithm\n",
        "##Time Complexity -> O(n)\n",
        "##Space Complexity -> O(1)\n",
        "\n",
        "n= len(arr)\n",
        "def linearsearch(arr,target):\n",
        "  for i in range(n):\n",
        "    if (arr[i] == target):\n",
        "      return i\n",
        "  return -1\n",
        "\n",
        "linearsearch(arr,n)\n",
        "\n",
        "#Driver Code\n",
        "arr = [12,14,16,18,11,22,26,29]\n",
        "target = 112\n",
        "result = linearsearch(arr,target)\n",
        "print(result)"
      ],
      "metadata": {
        "colab": {
          "base_uri": "https://localhost:8080/"
        },
        "id": "5HsFcG6X7klj",
        "outputId": "243924d3-5fab-4c1c-bce5-e2b4b51649fb"
      },
      "execution_count": 23,
      "outputs": [
        {
          "output_type": "stream",
          "name": "stdout",
          "text": [
            "-1\n"
          ]
        }
      ]
    },
    {
      "cell_type": "code",
      "source": [
        "##Time Complexity -> O(n)\n",
        "##Space Complexity -> O(n)\n",
        "\n",
        "#Creating extra space\n",
        "even = []\n",
        "odd = []\n",
        "def even_odd(arr):\n",
        "  for i in arr:\n",
        "    if i%2==0:\n",
        "      even.append(i)\n",
        "    else:\n",
        "      odd.append(i)\n",
        "  return even, odd\n",
        "\n",
        "\n",
        "\n",
        "#Driver Code\n",
        "arr = [2,5,11,13,15,18,22]\n",
        "#n = len(arr)\n",
        "result = even_odd(arr)\n",
        "print(result)"
      ],
      "metadata": {
        "colab": {
          "base_uri": "https://localhost:8080/"
        },
        "id": "YN3Hhbkj8k2K",
        "outputId": "4a0aac2c-932a-42db-b4ef-8bf39898c724"
      },
      "execution_count": 28,
      "outputs": [
        {
          "output_type": "stream",
          "name": "stdout",
          "text": [
            "([2, 18, 22], [5, 11, 13, 15])\n"
          ]
        }
      ]
    },
    {
      "cell_type": "code",
      "source": [
        "\n",
        "##Time Complexity -> O(n^2)\n",
        "##Space Complexity -> O(1)\n",
        "##function definition\n",
        "\n",
        "def printDiagonalSum(arr):\n",
        "  n = len(arr)\n",
        "  primaryDiagonalSum = 0\n",
        "  secondaryDiagonalSum = 0\n",
        "  for i in range(n):\n",
        "    for j in range(n):\n",
        "      if i == j:\n",
        "        primaryDiagonalSum += arr[i][j]\n",
        "\n",
        "      if ((i+j) == (n-1)):\n",
        "          secondaryDiagonalSum += arr[i][j]\n",
        "  print(\"Primary Diagonal Sum : \",primaryDiagonalSum)\n",
        "  print(\"Secondary Diagonal Sum : \",secondaryDiagonalSum)\n",
        "\n",
        "\n",
        "\n",
        "\n",
        "\n",
        "\n",
        "##Driver Code\n",
        "arr = [[2,4,6],[8,11,13], [14,17,19]]\n",
        "##function calling\n",
        "printDiagonalSum(arr)"
      ],
      "metadata": {
        "colab": {
          "base_uri": "https://localhost:8080/"
        },
        "id": "Vqm6Wv2eALpg",
        "outputId": "092e7755-4de4-47b2-b0df-faa1503fad54"
      },
      "execution_count": 30,
      "outputs": [
        {
          "output_type": "stream",
          "name": "stdout",
          "text": [
            "Primary Diagonal Sum :  32\n",
            "Secondary Diagonal Sum :  31\n"
          ]
        }
      ]
    },
    {
      "cell_type": "code",
      "source": [],
      "metadata": {
        "id": "iYidWb2SJabG"
      },
      "execution_count": null,
      "outputs": []
    }
  ]
}