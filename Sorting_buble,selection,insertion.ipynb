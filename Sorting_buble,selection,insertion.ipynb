{
  "nbformat": 4,
  "nbformat_minor": 0,
  "metadata": {
    "colab": {
      "provenance": [],
      "authorship_tag": "ABX9TyMOhrRa77UVkSpTaSLlwC3a",
      "include_colab_link": true
    },
    "kernelspec": {
      "name": "python3",
      "display_name": "Python 3"
    },
    "language_info": {
      "name": "python"
    }
  },
  "cells": [
    {
      "cell_type": "markdown",
      "metadata": {
        "id": "view-in-github",
        "colab_type": "text"
      },
      "source": [
        "<a href=\"https://colab.research.google.com/github/amit-raj-07/Python-DSA/blob/main/Sorting_buble%2Cselection%2Cinsertion.ipynb\" target=\"_parent\"><img src=\"https://colab.research.google.com/assets/colab-badge.svg\" alt=\"Open In Colab\"/></a>"
      ]
    },
    {
      "cell_type": "code",
      "execution_count": 3,
      "metadata": {
        "colab": {
          "base_uri": "https://localhost:8080/"
        },
        "id": "IYzA9ei2xb2g",
        "outputId": "76aef5b5-50a7-42c0-dac6-d0c0f0342bab"
      },
      "outputs": [
        {
          "output_type": "stream",
          "name": "stdout",
          "text": [
            "[1, 2, 3, 4, 5]\n"
          ]
        }
      ],
      "source": [
        "def bubblesort(arr):\n",
        "  for i in range(len(arr)-1,0,-1):\n",
        "    for j in range(i):\n",
        "      if (arr[j]>arr[j+1]):\n",
        "        arr[j],arr[j+1] = arr[j+1],arr[j]\n",
        "\n",
        "arr = [4,3,1,5,2]\n",
        "bubblesort(arr)\n",
        "print(arr)"
      ]
    },
    {
      "cell_type": "code",
      "source": [
        "\n",
        "def bubblesortOptimised(arr):\n",
        "  for i in range(len(arr)-1,0,-1):\n",
        "    isSorted = True\n",
        "    for j in range(i):\n",
        "      if (arr[j]>arr[j+1]):\n",
        "        isSorted = False\n",
        "        arr[j],arr[j+1] = arr[j+1],arr[j]\n",
        "\n",
        "    if isSorted:\n",
        "      print(\"Array is Already Sorted\")\n",
        "      break\n",
        "\n",
        "arr = [4,3,1,5,2]\n",
        "bubblesortOptimised(arr)\n",
        "print(arr)"
      ],
      "metadata": {
        "colab": {
          "base_uri": "https://localhost:8080/"
        },
        "id": "MJlPP8E70KAU",
        "outputId": "7dcfccfc-da6d-4130-9d9d-42a43d4fce09"
      },
      "execution_count": 10,
      "outputs": [
        {
          "output_type": "stream",
          "name": "stdout",
          "text": [
            "Array is Already Sorted\n",
            "[1, 2, 3, 4, 5]\n"
          ]
        }
      ]
    },
    {
      "cell_type": "code",
      "source": [
        "#if array is already sorted\n",
        "\n",
        "def Sorted(arr):\n",
        "  isSorted = True\n",
        "  for i in range(len(arr)-1):\n",
        "    if arr[i]>arr[i+1]:\n",
        "      isSorted = False\n",
        "      break\n",
        "  if isSorted:\n",
        "    print(\"Array is Sorted\")\n",
        "    print(arr)\n",
        "  else:\n",
        "    print(\"Array is Not sorted\")\n",
        "    print(arr)\n",
        "\n",
        "\n",
        "arr = [1,2,8,4,5,7]\n",
        "Sorted(arr)\n",
        "#print(arr)"
      ],
      "metadata": {
        "colab": {
          "base_uri": "https://localhost:8080/"
        },
        "id": "YjSz36pa9-Ur",
        "outputId": "ce6055e0-6bb1-49cc-d11d-8016b6a5c0bf"
      },
      "execution_count": 13,
      "outputs": [
        {
          "output_type": "stream",
          "name": "stdout",
          "text": [
            "Array is Not sorted\n",
            "[1, 2, 8, 4, 5, 7]\n"
          ]
        }
      ]
    },
    {
      "cell_type": "code",
      "source": [
        "def selectionsort(arr):\n",
        "  for i in range(len(arr)):\n",
        "    min = i\n",
        "    for j in range(i+1, len(arr)):\n",
        "      if arr[j]<arr[min]:\n",
        "        min = j\n",
        "    arr[i], arr[min] = arr[min], arr[i]\n",
        "\n",
        "arr = [1,2,8,4,5,7]\n",
        "selectionsort(arr)\n",
        "print(arr)"
      ],
      "metadata": {
        "colab": {
          "base_uri": "https://localhost:8080/"
        },
        "id": "xjipm7IdDlXY",
        "outputId": "e7a2bf34-8f19-4c59-8eb3-8b13936fc76f"
      },
      "execution_count": 14,
      "outputs": [
        {
          "output_type": "stream",
          "name": "stdout",
          "text": [
            "[1, 2, 4, 5, 7, 8]\n"
          ]
        }
      ]
    },
    {
      "cell_type": "code",
      "source": [
        "def insertionsort(arr):\n",
        "  for i in range(1, len(arr)):\n",
        "    v = arr[i]\n",
        "    j=i\n",
        "    while (j>=1 and arr[j-1]>v):\n",
        "      arr[j] = arr[j-1]\n",
        "      j-=1\n",
        "    arr[j] = v\n",
        "\n",
        "arr = [1,2,8,4,5,7]\n",
        "insertionsort(arr)\n",
        "print(arr)"
      ],
      "metadata": {
        "colab": {
          "base_uri": "https://localhost:8080/"
        },
        "id": "chnbivkVar01",
        "outputId": "7207dbcd-3307-41e1-c876-3ab178b7d834"
      },
      "execution_count": 15,
      "outputs": [
        {
          "output_type": "stream",
          "name": "stdout",
          "text": [
            "[1, 2, 4, 5, 7, 8]\n"
          ]
        }
      ]
    },
    {
      "cell_type": "code",
      "source": [],
      "metadata": {
        "id": "6aRg6LulbPwB"
      },
      "execution_count": null,
      "outputs": []
    }
  ]
}